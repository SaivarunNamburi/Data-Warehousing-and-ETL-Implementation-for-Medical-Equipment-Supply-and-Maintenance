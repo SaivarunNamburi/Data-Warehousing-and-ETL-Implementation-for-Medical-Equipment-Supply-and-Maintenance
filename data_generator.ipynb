{
 "cells": [
  {
   "cell_type": "code",
   "execution_count": 1,
   "metadata": {},
   "outputs": [
    {
     "name": "stdout",
     "output_type": "stream",
     "text": [
      "Collecting faker\n",
      "  Downloading Faker-19.6.2-py3-none-any.whl (1.7 MB)\n",
      "     ---------------------------------------- 1.7/1.7 MB 12.1 MB/s eta 0:00:00\n",
      "Requirement already satisfied: python-dateutil>=2.4 in c:\\users\\18572\\anaconda3\\lib\\site-packages (from faker) (2.8.2)\n",
      "Requirement already satisfied: six>=1.5 in c:\\users\\18572\\anaconda3\\lib\\site-packages (from python-dateutil>=2.4->faker) (1.16.0)\n",
      "Installing collected packages: faker\n",
      "Successfully installed faker-19.6.2\n"
     ]
    }
   ],
   "source": [
    "!pip install faker;"
   ]
  },
  {
   "cell_type": "code",
   "execution_count": 7,
   "metadata": {},
   "outputs": [
    {
     "name": "stdout",
     "output_type": "stream",
     "text": [
      "David Riddle\n",
      "Craig Morales\n",
      "Timothy Drake\n",
      "Scott Acosta\n",
      "Courtney Thompson\n",
      "Michael Ramirez\n",
      "Natalie Owens MD\n",
      "Daniel Riley\n",
      "Jocelyn Gonzalez\n",
      "Cheyenne Alexander\n"
     ]
    }
   ],
   "source": [
    "from faker import Faker\n",
    "fake = Faker()\n",
    "for i in range (0,10):\n",
    "    print(fake.name())"
   ]
  },
  {
   "cell_type": "code",
   "execution_count": 8,
   "metadata": {},
   "outputs": [
    {
     "name": "stdout",
     "output_type": "stream",
     "text": [
      "Collecting faker-biology\n",
      "  Downloading faker_biology-0.6.0-py3-none-any.whl (110 kB)\n",
      "     -------------------------------------- 110.2/110.2 kB 6.2 MB/s eta 0:00:00\n",
      "Collecting faker-python<0.0.2,>=0.0.1\n",
      "  Downloading faker_python-0.0.1-py3-none-any.whl (2.7 kB)\n",
      "Collecting Faker<13.0.0,>=12.3.0\n",
      "  Downloading Faker-12.3.3-py3-none-any.whl (1.5 MB)\n",
      "     ---------------------------------------- 1.5/1.5 MB 9.5 MB/s eta 0:00:00\n",
      "Requirement already satisfied: python-dateutil>=2.4 in c:\\users\\18572\\anaconda3\\lib\\site-packages (from Faker<13.0.0,>=12.3.0->faker-biology) (2.8.2)\n",
      "Requirement already satisfied: six>=1.5 in c:\\users\\18572\\anaconda3\\lib\\site-packages (from python-dateutil>=2.4->Faker<13.0.0,>=12.3.0->faker-biology) (1.16.0)\n",
      "Installing collected packages: faker-python, Faker, faker-biology\n",
      "  Attempting uninstall: Faker\n",
      "    Found existing installation: Faker 19.6.2\n",
      "    Uninstalling Faker-19.6.2:\n",
      "      Successfully uninstalled Faker-19.6.2\n",
      "Successfully installed Faker-12.3.3 faker-biology-0.6.0 faker-python-0.0.1\n",
      "Note: you may need to restart the kernel to use updated packages.\n"
     ]
    }
   ],
   "source": [
    " pip install faker-biology"
   ]
  },
  {
   "cell_type": "code",
   "execution_count": 10,
   "metadata": {},
   "outputs": [
    {
     "data": {
      "text/plain": [
       "'cell wall'"
      ]
     },
     "execution_count": 10,
     "metadata": {},
     "output_type": "execute_result"
    }
   ],
   "source": [
    "from faker_biology.physiology import CellType, Organ, Organelle\n",
    "\n",
    "fake.add_provider(CellType)\n",
    "fake.add_provider(Organ)\n",
    "fake.add_provider(Organelle)\n",
    "\n",
    "fake.organ()\n",
    "# Sublingual glands\n",
    "\n",
    "fake.celltype()\n",
    "# Centroacinar cell\n",
    "\n",
    "fake.organelle()\n",
    "# chloroplast"
   ]
  },
  {
   "cell_type": "code",
   "execution_count": null,
   "metadata": {},
   "outputs": [],
   "source": []
  }
 ],
 "metadata": {
  "kernelspec": {
   "display_name": "base",
   "language": "python",
   "name": "python3"
  },
  "language_info": {
   "codemirror_mode": {
    "name": "ipython",
    "version": 3
   },
   "file_extension": ".py",
   "mimetype": "text/x-python",
   "name": "python",
   "nbconvert_exporter": "python",
   "pygments_lexer": "ipython3",
   "version": "3.9.13"
  }
 },
 "nbformat": 4,
 "nbformat_minor": 2
}
